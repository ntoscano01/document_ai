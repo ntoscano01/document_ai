{
 "cells": [
  {
   "cell_type": "code",
   "execution_count": 1,
   "id": "ee7446e4",
   "metadata": {},
   "outputs": [],
   "source": [
    "import os"
   ]
  },
  {
   "cell_type": "code",
   "execution_count": null,
   "id": "d6b75efd",
   "metadata": {},
   "outputs": [],
   "source": [
    "path=\"/home/datascience/document_ai/doc_conv/\""
   ]
  },
  {
   "cell_type": "code",
   "execution_count": 3,
   "id": "28626222",
   "metadata": {},
   "outputs": [],
   "source": [
    "# Function to rename multiple files\n",
    "def globrename(path):\n",
    "    i = 0\n",
    "    for filename in os.listdir(path):\n",
    "        my_dest =\"invoice-34266-items-received\" + str(i) + \".pdf\"\n",
    "        my_source =path + filename\n",
    "        my_dest =path + my_dest\n",
    "        # rename() function will\n",
    "        # rename all the files\n",
    "        os.rename(my_source, my_dest)\n",
    "        i += 1\n",
    "\n",
    "globrename(path)"
   ]
  },
  {
   "cell_type": "code",
   "execution_count": null,
   "id": "ea120d58",
   "metadata": {},
   "outputs": [],
   "source": [
    "# Rename single file\n",
    "file = ['Invoice # 34266 - Final Bathroom Remodel.pdf']\n",
    "folder = \"/home/datascience/document_ai/doc_conv/\"\n",
    "\n",
    "def fileRename(file, folder):\n",
    "    # Iterate\n",
    "    for file in os.listdir(folder):\n",
    "        # Checking if the file is present in the list\n",
    "        if file in file:\n",
    "            oldName = os.path.join(folder, file)\n",
    "            #n = os.path.splitext(file)[0]\n",
    "\n",
    "            b = 'invoice-34266-remodel' + '.pdf'\n",
    "            newName = os.path.join(folder, b)\n",
    "\n",
    "            # Rename the file\n",
    "            os.rename(oldName, newName)\n",
    "\n",
    "    res = os.listdir(folder)\n",
    "    print(res)\n",
    "    \n",
    "fileRename(file, folder)"
   ]
  }
 ],
 "metadata": {
  "kernelspec": {
   "display_name": "Python [conda env:computervision_p37_gpu_v1]",
   "language": "python",
   "name": "conda-env-computervision_p37_gpu_v1-py"
  },
  "language_info": {
   "codemirror_mode": {
    "name": "ipython",
    "version": 3
   },
   "file_extension": ".py",
   "mimetype": "text/x-python",
   "name": "python",
   "nbconvert_exporter": "python",
   "pygments_lexer": "ipython3",
   "version": "3.7.8"
  }
 },
 "nbformat": 4,
 "nbformat_minor": 5
}
