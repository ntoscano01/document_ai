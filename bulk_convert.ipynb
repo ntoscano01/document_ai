{
 "cells": [
  {
   "cell_type": "code",
   "execution_count": 1,
   "id": "07d49376",
   "metadata": {},
   "outputs": [],
   "source": [
    "import os\n",
    "from pdf2image import convert_from_path"
   ]
  },
  {
   "cell_type": "code",
   "execution_count": 10,
   "id": "32ab2ef9",
   "metadata": {},
   "outputs": [],
   "source": [
    "# set working directory to target pdfs\n",
    "src = '/home/datascience/document_ai/docs/'\n",
    "tgt = '/home/datascience/document_ai/output/'\n"
   ]
  },
  {
   "cell_type": "code",
   "execution_count": 13,
   "id": "1089c01d",
   "metadata": {},
   "outputs": [],
   "source": [
    "def convert_pdf_to_jpg(src):\n",
    "    for file in os.listdir(src):\n",
    "        # get list of images\n",
    "        filename = file\n",
    "        images = convert_from_path(src + filename)\n",
    "        # convert pdf to jpg \n",
    "        for i in range(len(images)):\n",
    "            os.chdir(tgt)\n",
    "            dirname = os.path.splitext(file)[0]\n",
    "            try:\n",
    "                os.makedirs(dirname)\n",
    "            except FileExistsError:\n",
    "                # directory already exists\n",
    "                pass\n",
    "            # save pages as images in the pdf\n",
    "            images[i].save(dirname + '/' + 'page'+ '_' + str(i) +'.jpg', 'JPEG')"
   ]
  },
  {
   "cell_type": "code",
   "execution_count": 14,
   "id": "8ce731b6",
   "metadata": {},
   "outputs": [],
   "source": [
    "convert_pdf_to_jpg(src)"
   ]
  },
  {
   "cell_type": "code",
   "execution_count": null,
   "id": "6472b320",
   "metadata": {},
   "outputs": [],
   "source": [
    "# convert single pdf file to jpg\n",
    "images = convert_from_path('/home/datascience/document_ai/doc_conv/invoice-34266-items-received10.pdf')\n",
    " \n",
    "for i in range(len(images)):\n",
    "    # Save pages as images in the pdf\n",
    "    images[i].save('page'+ str(i) +'.jpg', 'JPEG')"
   ]
  }
 ],
 "metadata": {
  "kernelspec": {
   "display_name": "Python [conda env:computervision_p37_gpu_v1]",
   "language": "python",
   "name": "conda-env-computervision_p37_gpu_v1-py"
  },
  "language_info": {
   "codemirror_mode": {
    "name": "ipython",
    "version": 3
   },
   "file_extension": ".py",
   "mimetype": "text/x-python",
   "name": "python",
   "nbconvert_exporter": "python",
   "pygments_lexer": "ipython3",
   "version": "3.7.8"
  }
 },
 "nbformat": 4,
 "nbformat_minor": 5
}
